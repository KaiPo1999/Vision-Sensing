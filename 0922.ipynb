{
 "cells": [
  {
   "cell_type": "code",
   "execution_count": 1,
   "metadata": {},
   "outputs": [],
   "source": [
    "test = [\n",
    "    {'Arizona': 'Phoenix', 'California': 'Sacramento', 'Hawaii': 'Honolulu'},\n",
    "    1000, \n",
    "    2000, \n",
    "    3000, \n",
    "    ['hat', 't-shirt', 'jeans', {'socks1': 'red', 'socks2': 'blue'}]]"
   ]
  },
  {
   "cell_type": "code",
   "execution_count": 15,
   "metadata": {},
   "outputs": [
    {
     "name": "stdout",
     "output_type": "stream",
     "text": [
      "2000\n",
      "{'Hawaii': 'Honolulu', 'California': 'Sacramento', 'Arizona': 'Phoenix'}\n",
      "['hat', 't-shirt', 'jeans', {'socks1': 'red', 'socks2': 'blue'}]\n",
      "Phoenix\n",
      "jeans\n",
      "blue\n"
     ]
    }
   ],
   "source": [
    "print(test[2])\n",
    "print(test[0])\n",
    "print(test[-1])\n",
    "print(test[0]['Arizona'])\n",
    "print(test[4][2])\n",
    "print(test[4][3]['socks2'])"
   ]
  },
  {
   "cell_type": "code",
   "execution_count": null,
   "metadata": {},
   "outputs": [],
   "source": []
  }
 ],
 "metadata": {
  "interpreter": {
   "hash": "240ea97eda267a75382f46ec382964da8234f2eef78796bd398d2c05f9aa20cd"
  },
  "kernelspec": {
   "display_name": "Python 3.5.4 ('tensorflow')",
   "language": "python",
   "name": "python3"
  },
  "language_info": {
   "codemirror_mode": {
    "name": "ipython",
    "version": 3
   },
   "file_extension": ".py",
   "mimetype": "text/x-python",
   "name": "python",
   "nbconvert_exporter": "python",
   "pygments_lexer": "ipython3",
   "version": "3.5.4"
  },
  "orig_nbformat": 4
 },
 "nbformat": 4,
 "nbformat_minor": 2
}
